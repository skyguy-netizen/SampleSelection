{
 "cells": [
  {
   "cell_type": "code",
   "execution_count": 7,
   "id": "32c8faad-6d6f-400c-ac80-1ef580eecd97",
   "metadata": {},
   "outputs": [],
   "source": [
    "import requests as r\n",
    "import pandas as pd\n",
    "\n",
    "def get_response(smile):\n",
    "    response = r.get(url=f\"https://structure.gnps2.org/adductcalc?smiles={smile}\")\n",
    "    if response.status_code == 200:\n",
    "        return (response.json(), True)\n",
    "    else:\n",
    "        return (None, False)\n",
    "data = pd.read_csv(\"file(email).csv\")"
   ]
  },
  {
   "cell_type": "code",
   "execution_count": 8,
   "id": "06f034c4-bc6b-4caf-87c7-97e0a9384d27",
   "metadata": {},
   "outputs": [],
   "source": [
    "smile1 = list(data['Smiles'])\n",
    "smile2 = list(data['Smiles 2'])"
   ]
  },
  {
   "cell_type": "code",
   "execution_count": 9,
   "id": "3d6c1c9b-ee26-4527-bb80-f87e85f1fc1a",
   "metadata": {},
   "outputs": [],
   "source": [
    "for i in range(len(smile1)):\n",
    "    if smile1[i] != smile2[i]:\n",
    "        smile1.pop(i)\n",
    "        smile2.pop(i)\n",
    "        break"
   ]
  },
  {
   "cell_type": "code",
   "execution_count": 10,
   "id": "df7549e6-f06a-477b-8585-d3ea287965cd",
   "metadata": {},
   "outputs": [],
   "source": [
    "api = \"https://structure.gnps2.org/adductcalc?smiles=\""
   ]
  },
  {
   "cell_type": "code",
   "execution_count": 11,
   "id": "134dc441-d2fa-442c-810d-98725c8cd1a1",
   "metadata": {},
   "outputs": [],
   "source": [
    "api_response = []\n",
    "\n",
    "for smile in smile1:\n",
    "    # print(smile)\n",
    "    (results, ok) = get_response(smile)\n",
    "    if ok:\n",
    "        for result in results:\n",
    "            result['smile'] = smile\n",
    "            api_response.append(result)    "
   ]
  },
  {
   "cell_type": "code",
   "execution_count": 12,
   "id": "25af6f3d-7cbb-4ce5-a181-4202976e4f7f",
   "metadata": {},
   "outputs": [],
   "source": [
    "results_data = pd.DataFrame(api_response)"
   ]
  },
  {
   "cell_type": "code",
   "execution_count": 13,
   "id": "b1664832-3560-42c6-96f2-ced5963936e6",
   "metadata": {},
   "outputs": [
    {
     "data": {
      "text/plain": [
       "<pandas.core.groupby.generic.DataFrameGroupBy object at 0x72d95c112c80>"
      ]
     },
     "execution_count": 13,
     "metadata": {},
     "output_type": "execute_result"
    }
   ],
   "source": [
    "results_data.set_index('smile').groupby('smile')"
   ]
  },
  {
   "cell_type": "code",
   "execution_count": 14,
   "id": "04436f2b-9c24-4183-82d7-ee61ac22e428",
   "metadata": {},
   "outputs": [],
   "source": [
    "results_data.to_csv(\"results.csv\")"
   ]
  },
  {
   "cell_type": "code",
   "execution_count": 15,
   "id": "02bb2c4b-f515-4aac-ba6a-c5d1f20398ec",
   "metadata": {},
   "outputs": [],
   "source": [
    "df = pd.read_csv(\"results.csv\")\n",
    "df = df.drop(columns = [\"Unnamed: 0\"])\n",
    "grouped = df.groupby(\"smile\")"
   ]
  },
  {
   "cell_type": "code",
   "execution_count": null,
   "id": "85890df0-db26-4b08-9af2-448ba41d424e",
   "metadata": {},
   "outputs": [],
   "source": []
  }
 ],
 "metadata": {
  "kernelspec": {
   "display_name": "Python 3 (ipykernel)",
   "language": "python",
   "name": "python3"
  },
  "language_info": {
   "codemirror_mode": {
    "name": "ipython",
    "version": 3
   },
   "file_extension": ".py",
   "mimetype": "text/x-python",
   "name": "python",
   "nbconvert_exporter": "python",
   "pygments_lexer": "ipython3",
   "version": "3.10.12"
  }
 },
 "nbformat": 4,
 "nbformat_minor": 5
}
